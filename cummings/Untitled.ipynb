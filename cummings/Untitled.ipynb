{
 "cells": [
  {
   "cell_type": "code",
   "execution_count": 2,
   "id": "2212171d",
   "metadata": {},
   "outputs": [
    {
     "name": "stdout",
     "output_type": "stream",
     "text": [
      "211\n"
     ]
    }
   ],
   "source": [
    "import os\n",
    "\n",
    "from socketserver import ThreadingMixIn\n",
    "import numpy as np\n",
    "import pandas as pd\n",
    "import sys\n",
    "\n",
    "import tensorflow.keras as keras\n",
    "from tensorflow.keras.models import Sequential\n",
    "from tensorflow.keras.layers import (Dense, Dropout, Conv2D, MaxPooling2D,\n",
    "                                     Flatten)\n",
    "\n",
    "CLEANED_DATA = os.path.join('..', 'data_cleaning')\n",
    "TRAINING_SAMPLES = os.path.join(CLEANED_DATA, 'training_samples_X.npy')\n",
    "TRAINING_LABELS= os.path.join(CLEANED_DATA, 'training_samples_Y.npy')\n",
    "RANDOM_SEED = 42\n",
    "\n",
    "training_data_np = np.load(TRAINING_SAMPLES, allow_pickle=True)\n",
    "training_labels_np = np.load(TRAINING_LABELS, allow_pickle=True)\n",
    "# Convert 0 to 255 RGB to 0..1 float\n",
    "print(training_labels_np[0])"
   ]
  },
  {
   "cell_type": "code",
   "execution_count": 1,
   "id": "e7dc5b50",
   "metadata": {},
   "outputs": [
    {
     "ename": "NameError",
     "evalue": "name 'training_data_np' is not defined",
     "output_type": "error",
     "traceback": [
      "\u001b[0;31m---------------------------------------------------------------------------\u001b[0m",
      "\u001b[0;31mNameError\u001b[0m                                 Traceback (most recent call last)",
      "Input \u001b[0;32mIn [1]\u001b[0m, in \u001b[0;36m<cell line: 2>\u001b[0;34m()\u001b[0m\n\u001b[1;32m      1\u001b[0m \u001b[38;5;66;03m## In which we bring the training data to 0..1\u001b[39;00m\n\u001b[0;32m----> 2\u001b[0m training_data \u001b[38;5;241m=\u001b[39m \u001b[43mtraining_data_np\u001b[49m\u001b[38;5;241m/\u001b[39m\u001b[38;5;241m255.0\u001b[39m\n",
      "\u001b[0;31mNameError\u001b[0m: name 'training_data_np' is not defined"
     ]
    }
   ],
   "source": [
    "## In which we bring the training data to 0..1\n",
    "training_data = training_data_np/255.0"
   ]
  },
  {
   "cell_type": "code",
   "execution_count": null,
   "id": "452e7552",
   "metadata": {},
   "outputs": [],
   "source": [
    "trainin"
   ]
  }
 ],
 "metadata": {
  "kernelspec": {
   "display_name": "Python 3 (ipykernel)",
   "language": "python",
   "name": "python3"
  },
  "language_info": {
   "codemirror_mode": {
    "name": "ipython",
    "version": 3
   },
   "file_extension": ".py",
   "mimetype": "text/x-python",
   "name": "python",
   "nbconvert_exporter": "python",
   "pygments_lexer": "ipython3",
   "version": "3.10.3"
  }
 },
 "nbformat": 4,
 "nbformat_minor": 5
}
