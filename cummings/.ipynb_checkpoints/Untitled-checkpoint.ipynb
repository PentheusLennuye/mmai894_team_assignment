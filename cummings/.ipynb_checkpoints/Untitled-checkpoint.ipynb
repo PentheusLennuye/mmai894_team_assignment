{
 "cells": [
  {
   "cell_type": "code",
   "execution_count": 1,
   "id": "e80bca4d",
   "metadata": {},
   "outputs": [
    {
     "name": "stdout",
     "output_type": "stream",
     "text": [
      "[[[253 246 227]\n",
      "  [229 212 197]\n",
      "  [200 184 170]\n",
      "  ...\n",
      "  [167 142 122]\n",
      "  [160 135 117]\n",
      "  [161 133 114]]\n",
      "\n",
      " [[240 225 206]\n",
      "  [217 201 185]\n",
      "  [196 180 166]\n",
      "  ...\n",
      "  [169 144 124]\n",
      "  [162 136 120]\n",
      "  [163 134 117]]\n",
      "\n",
      " [[216 201 182]\n",
      "  [204 188 172]\n",
      "  [189 173 159]\n",
      "  ...\n",
      "  [170 145 125]\n",
      "  [165 139 122]\n",
      "  [165 137 119]]\n",
      "\n",
      " ...\n",
      "\n",
      " [[160 131  99]\n",
      "  [175 146 114]\n",
      "  [170 141 107]\n",
      "  ...\n",
      "  [133 109  88]\n",
      "  [104  77  54]\n",
      "  [ 94  61  36]]\n",
      "\n",
      " [[152 123  89]\n",
      "  [169 140 107]\n",
      "  [160 132  95]\n",
      "  ...\n",
      "  [131 103  82]\n",
      "  [112  84  57]\n",
      "  [107  70  47]]\n",
      "\n",
      " [[165 136 102]\n",
      "  [182 154 117]\n",
      "  [163 134  97]\n",
      "  ...\n",
      "  [127  99  76]\n",
      "  [114  84  57]\n",
      "  [113  74  52]]]\n"
     ]
    }
   ],
   "source": [
    "import os\n",
    "\n",
    "from socketserver import ThreadingMixIn\n",
    "import numpy as np\n",
    "import pandas as pd\n",
    "import sys\n",
    "\n",
    "import tensorflow.keras as keras\n",
    "from tensorflow.keras.models import Sequential\n",
    "from tensorflow.keras.layers import (Dense, Dropout, Conv2D, MaxPooling2D,\n",
    "                                     Flatten)\n",
    "\n",
    "CLEANED_DATA = os.path.join('..', 'data_cleaning')\n",
    "TRAINING_SAMPLES = os.path.join(CLEANED_DATA, 'training_samples_X.npy')\n",
    "TRAINING_LABELS= os.path.join(CLEANED_DATA, 'training_samples_Y.npy')\n",
    "RANDOM_SEED = 42\n",
    "\n",
    "training_data_np = np.load(TRAINING_SAMPLES, allow_pickle=True)\n",
    "training_labels_np = np.load(TRAINING_LABELS, allow_pickle=True)\n",
    "# Convert 0 to 255 RGB to 0..1 float\n",
    "print(training_data_np[0])"
   ]
  },
  {
   "cell_type": "code",
   "execution_count": null,
   "id": "216082f2",
   "metadata": {},
   "outputs": [],
   "source": []
  }
 ],
 "metadata": {
  "kernelspec": {
   "display_name": "Python 3 (ipykernel)",
   "language": "python",
   "name": "python3"
  },
  "language_info": {
   "codemirror_mode": {
    "name": "ipython",
    "version": 3
   },
   "file_extension": ".py",
   "mimetype": "text/x-python",
   "name": "python",
   "nbconvert_exporter": "python",
   "pygments_lexer": "ipython3",
   "version": "3.10.3"
  }
 },
 "nbformat": 4,
 "nbformat_minor": 5
}
