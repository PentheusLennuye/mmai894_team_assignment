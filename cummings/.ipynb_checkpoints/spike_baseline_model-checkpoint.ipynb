{
 "cells": [
  {
   "cell_type": "code",
   "execution_count": 6,
   "id": "2212171d",
   "metadata": {},
   "outputs": [],
   "source": [
    "import os\n",
    "\n",
    "from socketserver import ThreadingMixIn\n",
    "import numpy as np\n",
    "import pandas as pd\n",
    "import sys\n",
    "\n",
    "from sklearn.model_selection import train_test_split\n",
    "import tensorflow.keras as keras\n",
    "from tensorflow.keras.models import Sequential\n",
    "from tensorflow.keras.layers import (Dense, Dropout, Conv2D, MaxPooling2D,\n",
    "                                     Flatten)\n",
    "from tensorflow.keras.utils import to_categorical"
   ]
  },
  {
   "cell_type": "code",
   "execution_count": 2,
   "id": "9ad43b58",
   "metadata": {},
   "outputs": [],
   "source": [
    "# User-defined. Later to be used in a conf file\n",
    "\n",
    "CLEANED_DATA_DIR = os.path.join('..', 'data_cleaning')  # Change at will\n",
    "TRAINING_INSTANCES_FILE = 'training_samples_X.npy'\n",
    "TRAINING_LABEL_FILE = 'training_samples_X.npy'"
   ]
  },
  {
   "cell_type": "code",
   "execution_count": null,
   "id": "381e1a64",
   "metadata": {},
   "outputs": [],
   "source": [
    "# System constants\n",
    "\n",
    "RANDOM_SEED = 42\n",
    "DEPTH_RGB = 3\n",
    "DEPTH_GREYSCALE = 1\n",
    "\n",
    "TRAINING_SAMPLES = os.path.join(CLEANED_DATA_DIR, TRAINING_INSTANCES_FILE)\n",
    "TRAINING_LABELS= os.path.join(CLEANED_DATA_DIR, TRAINING_LABEL_FILE)\n",
    "\n",
    "X_train_np = np.load(TRAINING_SAMPLES, allow_pickle=True)\n",
    "Y_train_np = np.load(TRAINING_LABELS, allow_pickle=True)"
   ]
  },
  {
   "cell_type": "code",
   "execution_count": 7,
   "id": "e7dc5b50",
   "metadata": {},
   "outputs": [],
   "source": [
    "## In which we bring the training data to 0..1\n",
    "#training_data = training_data_np/255.0\n",
    "cleaned_X = X_train_np/255.0\n",
    "cleaned_Y = to_categorical(Y_train_np)"
   ]
  },
  {
   "cell_type": "code",
   "execution_count": null,
   "id": "c81d8742",
   "metadata": {},
   "outputs": [],
   "source": [
    "TRAIN_P = 50\n",
    "VALI_P = 20\n",
    "TEST_P = 30\n",
    "def split_data(cleaned_X, cleaned_Y):\n",
    "    X_rem, X_test, Y_rem, Y_test = train_test_split(\n",
    "        cleaned_X, cleaned_Y, test_size=TEST_P/100,\n",
    "        random_state=RANDOM_SEED\n",
    "    )\n",
    "\n",
    "    X_train, X_val, Y_train, Y_val = train_test_split(\n",
    "        X_rem, Y_rem, test_size=VALI_P/(TRAIN_P + VALI_P),\n",
    "        random_state=RANDOM_SEED\n",
    "    )\n",
    "    return X_val, X_test, X_train, Y_val, Y_test, Y_train\n",
    "\n",
    "X_val, X_test, X_train, Y_val, Y_test, Y_train = split_data(cleaned_X, cleaned_Y)"
   ]
  },
  {
   "cell_type": "code",
   "execution_count": 9,
   "id": "9000d286",
   "metadata": {},
   "outputs": [],
   "source": [
    "DEPTH = RGB\n",
    "BATCH_SIZE = 1000  # 35 iterations for 35000 training instances\n",
    "FILTERS = [64, 128, 256]\n",
    "KERNEL_SIZE = [7, 3, 3]\n",
    "STRIDES = [(1, 1), (1, 1), (1, 1)]\n",
    "PADDING = 'same'  # 'valid' or 'same'. No 'mirror'\n",
    "DILATION_RATE = [1, 1, 1]\n",
    "KERNEL_INITIALIZER = 'glorot_uniform'  # Default\n",
    "INPUT_SHAPE = (256, 256, DEPTH)  # MNIST images\n",
    "POOL_SIZE = (2, 2)\n",
    "def build_model():\n",
    "    model = keras.Sequential(\n",
    "        [\n",
    "            keras.layers.Conv2D(FILTERS[0], KERNEL_SIZE[0],\n",
    "                                input_shape=INPUT_SHAPE,\n",
    "                                activation='relu', strides=STRIDES[0],\n",
    "                                padding=PADDING, dilation_rate=DILATION_RATE[0],\n",
    "                                kernel_initializer=KERNEL_INITIALIZER,\n",
    "                                name='c_layer_one'),\n",
    "            keras.layers.MaxPooling2D(pool_size=POOL_SIZE, padding=PADDING),\n",
    "            keras.layers.Conv2D(FILTERS[1], KERNEL_SIZE[1],\n",
    "                                activation='relu', strides=STRIDES[1],\n",
    "                                padding=PADDING, dilation_rate=DILATION_RATE[1],\n",
    "                                kernel_initializer=KERNEL_INITIALIZER,\n",
    "                                name='c_layer_two'),\n",
    "            keras.layers.Conv2D(FILTERS[1], KERNEL_SIZE[1],\n",
    "                                activation='relu', strides=STRIDES[1],\n",
    "                                padding=PADDING, dilation_rate=DILATION_RATE[1],\n",
    "                                kernel_initializer=KERNEL_INITIALIZER,\n",
    "                                name='c_layer_three'),\n",
    "            keras.layers.MaxPooling2D(pool_size=POOL_SIZE, padding=PADDING),\n",
    "            keras.layers.Conv2D(FILTERS[2], KERNEL_SIZE[2],\n",
    "                                activation='relu', strides=STRIDES[2],\n",
    "                                padding=PADDING, dilation_rate=DILATION_RATE[2],\n",
    "                                kernel_initializer=KERNEL_INITIALIZER,\n",
    "                                name='c_layer_four'),\n",
    "            keras.layers.Conv2D(FILTERS[2], KERNEL_SIZE[2],\n",
    "                                activation='relu', strides=STRIDES[2],\n",
    "                                padding=PADDING, dilation_rate=DILATION_RATE[2],\n",
    "                                kernel_initializer=KERNEL_INITIALIZER,\n",
    "                                name='c_layer_five'),\n",
    "            keras.layers.MaxPooling2D(pool_size=POOL_SIZE, padding=PADDING),\n",
    "            # End Convolution/Pooling, go to Dense\n",
    "            keras.layers.Flatten(),\n",
    "            keras.layers.Dense(128, activation='relu', name='h_layer_one'),\n",
    "            keras.layers.Dropout(0.2, seed=RANDOM_SEED),\n",
    "            keras.layers.Dense(64, activation='relu', name='h_layer_two'),\n",
    "            keras.layers.Dropout(0.2, seed=RANDOM_SEED),\n",
    "            keras.layers.Dense(10, activation='softmax', name='output_layer'),\n",
    "        ]\n",
    "    )\n",
    "    return model"
   ]
  },
  {
   "cell_type": "code",
   "execution_count": 10,
   "id": "0df0c7ba",
   "metadata": {},
   "outputs": [],
   "source": [
    "def compile_model(model):\n",
    "    model.compile(\n",
    "        optimizer='rmsprop',  # Default\n",
    "        loss='categorical_crossentropy',  # Cross entropy from class\n",
    "        metrics=['accuracy']\n",
    "    )\n",
    "    return model"
   ]
  },
  {
   "cell_type": "code",
   "execution_count": 11,
   "id": "a69df120",
   "metadata": {},
   "outputs": [],
   "source": [
    "PROGRESS_BAR = 1\n",
    "ONE_LINE_PER = 2\n",
    "def train_model(model, X_train, Y_train, X_val, Y_val):\n",
    "    history = model.fit(\n",
    "        x=X_train,\n",
    "        y=Y_train,\n",
    "        validation_data=(X_val, Y_val),\n",
    "        batch_size=128,\n",
    "        epochs=12,\n",
    "        verbose=ONE_LINE_PER\n",
    "    )\n",
    "    return model, history"
   ]
  },
  {
   "cell_type": "code",
   "execution_count": 12,
   "id": "082a077a",
   "metadata": {},
   "outputs": [],
   "source": [
    "def eval_model(model, X_test, Y_test):\n",
    "    test_loss, test_accuracy = model.evaluate(x=X_test,\n",
    "                                              y=Y_test,\n",
    "                                              batch_size=128,\n",
    "                                              verbose=1)\n",
    "    return test_loss, test_accuracy"
   ]
  },
  {
   "cell_type": "code",
   "execution_count": 13,
   "id": "b03fb6c2",
   "metadata": {},
   "outputs": [
    {
     "name": "stdout",
     "output_type": "stream",
     "text": [
      "Model: \"sequential\"\n",
      "_________________________________________________________________\n",
      " Layer (type)                Output Shape              Param #   \n",
      "=================================================================\n",
      " c_layer_one (Conv2D)        (None, 256, 256, 64)      9472      \n",
      "                                                                 \n",
      " max_pooling2d (MaxPooling2D  (None, 128, 128, 64)     0         \n",
      " )                                                               \n",
      "                                                                 \n",
      " c_layer_two (Conv2D)        (None, 128, 128, 128)     73856     \n",
      "                                                                 \n",
      " c_layer_three (Conv2D)      (None, 128, 128, 128)     147584    \n",
      "                                                                 \n",
      " max_pooling2d_1 (MaxPooling  (None, 64, 64, 128)      0         \n",
      " 2D)                                                             \n",
      "                                                                 \n",
      " c_layer_four (Conv2D)       (None, 64, 64, 256)       295168    \n",
      "                                                                 \n",
      " c_layer_five (Conv2D)       (None, 64, 64, 256)       590080    \n",
      "                                                                 \n",
      " max_pooling2d_2 (MaxPooling  (None, 32, 32, 256)      0         \n",
      " 2D)                                                             \n",
      "                                                                 \n",
      " flatten (Flatten)           (None, 262144)            0         \n",
      "                                                                 \n",
      " h_layer_one (Dense)         (None, 128)               33554560  \n",
      "                                                                 \n",
      " dropout (Dropout)           (None, 128)               0         \n",
      "                                                                 \n",
      " h_layer_two (Dense)         (None, 64)                8256      \n",
      "                                                                 \n",
      " dropout_1 (Dropout)         (None, 64)                0         \n",
      "                                                                 \n",
      " output_layer (Dense)        (None, 10)                650       \n",
      "                                                                 \n",
      "=================================================================\n",
      "Total params: 34,679,626\n",
      "Trainable params: 34,679,626\n",
      "Non-trainable params: 0\n",
      "_________________________________________________________________\n"
     ]
    }
   ],
   "source": [
    "# Summarize the model to avoid > 2000000 parameters\n",
    "model = build_model()\n",
    "model.summary()"
   ]
  },
  {
   "cell_type": "code",
   "execution_count": 14,
   "id": "e84fad6f",
   "metadata": {},
   "outputs": [
    {
     "ename": "NameError",
     "evalue": "name 'X_train' is not defined",
     "output_type": "error",
     "traceback": [
      "\u001b[0;31m---------------------------------------------------------------------------\u001b[0m",
      "\u001b[0;31mNameError\u001b[0m                                 Traceback (most recent call last)",
      "Input \u001b[0;32mIn [14]\u001b[0m, in \u001b[0;36m<cell line: 4>\u001b[0;34m()\u001b[0m\n\u001b[1;32m      1\u001b[0m \u001b[38;5;66;03m## You may use this space (and add additional cells for exploration)\u001b[39;00m\n\u001b[1;32m      3\u001b[0m model \u001b[38;5;241m=\u001b[39m compile_model(model)\n\u001b[0;32m----> 4\u001b[0m model, history \u001b[38;5;241m=\u001b[39m train_model(model, \u001b[43mX_train\u001b[49m, Y_train, X_val, Y_val)\n\u001b[1;32m      5\u001b[0m test_loss, test_accuracy \u001b[38;5;241m=\u001b[39m eval_model(model, X_test, Y_test)\n\u001b[1;32m      8\u001b[0m \u001b[38;5;28mprint\u001b[39m(\u001b[38;5;124mf\u001b[39m\u001b[38;5;124m\"\u001b[39m\u001b[38;5;124mTest loss \u001b[39m\u001b[38;5;132;01m{\u001b[39;00mtest_loss\u001b[38;5;132;01m:\u001b[39;00m\u001b[38;5;124m.4f\u001b[39m\u001b[38;5;132;01m}\u001b[39;00m\u001b[38;5;124m, Test accuracy: \u001b[39m\u001b[38;5;132;01m{\u001b[39;00mtest_accuracy\u001b[38;5;132;01m:\u001b[39;00m\u001b[38;5;124m.4f\u001b[39m\u001b[38;5;132;01m}\u001b[39;00m\u001b[38;5;124m\"\u001b[39m)\n",
      "\u001b[0;31mNameError\u001b[0m: name 'X_train' is not defined"
     ]
    }
   ],
   "source": [
    "## You may use this space (and add additional cells for exploration)\n",
    "\n",
    "model = compile_model(model)\n",
    "model, history = train_model(model, X_train, Y_train, X_val, Y_val)\n",
    "test_loss, test_accuracy = eval_model(model, X_test, Y_test)\n",
    "\n",
    "\n",
    "print(f\"Test loss {test_loss:.4f}, Test accuracy: {test_accuracy:.4f}\")"
   ]
  },
  {
   "cell_type": "code",
   "execution_count": null,
   "id": "8b759d9c",
   "metadata": {},
   "outputs": [],
   "source": []
  }
 ],
 "metadata": {
  "kernelspec": {
   "display_name": "Python 3 (ipykernel)",
   "language": "python",
   "name": "python3"
  },
  "language_info": {
   "codemirror_mode": {
    "name": "ipython",
    "version": 3
   },
   "file_extension": ".py",
   "mimetype": "text/x-python",
   "name": "python",
   "nbconvert_exporter": "python",
   "pygments_lexer": "ipython3",
   "version": "3.10.3"
  }
 },
 "nbformat": 4,
 "nbformat_minor": 5
}
