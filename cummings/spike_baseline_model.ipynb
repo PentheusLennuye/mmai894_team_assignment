{
 "cells": [
  {
   "cell_type": "code",
   "execution_count": 1,
   "id": "2212171d",
   "metadata": {},
   "outputs": [],
   "source": [
    "import os\n",
    "\n",
    "from socketserver import ThreadingMixIn\n",
    "import numpy as np\n",
    "import pandas as pd\n",
    "import sys\n",
    "\n",
    "from sklearn.model_selection import train_test_split\n",
    "import tensorflow.keras as keras\n",
    "from tensorflow.keras.models import Sequential\n",
    "from tensorflow.keras.layers import (Dense, Dropout, Conv2D, MaxPooling2D,\n",
    "                                     Flatten)\n",
    "from tensorflow.keras.utils import to_categorical"
   ]
  },
  {
   "cell_type": "code",
   "execution_count": 2,
   "id": "9ad43b58",
   "metadata": {},
   "outputs": [],
   "source": [
    "# User-defined. Later to be used in a conf file\n",
    "\n",
    "CLEANED_DATA_DIR = os.path.join('..', 'data_cleaning')  # Change at will\n",
    "TRAINING_INSTANCES_FILE = 'training_samples_X.npy'\n",
    "TRAINING_LABEL_FILE = 'training_samples_X.npy'"
   ]
  },
  {
   "cell_type": "code",
   "execution_count": 3,
   "id": "5673f768",
   "metadata": {},
   "outputs": [],
   "source": [
    "# System constants\n",
    "\n",
    "RANDOM_SEED = 42\n",
    "DEPTH_RGB = 3\n",
    "DEPTH_GREYSCALE = 1\n",
    "\n",
    "TRAINING_SAMPLES = os.path.join(CLEANED_DATA_DIR, TRAINING_INSTANCES_FILE)\n",
    "TRAINING_LABELS= os.path.join(CLEANED_DATA_DIR, TRAINING_LABEL_FILE)\n",
    "\n",
    "X_train_np = np.load(TRAINING_SAMPLES, allow_pickle=True)\n",
    "Y_train_np = np.load(TRAINING_LABELS, allow_pickle=True)"
   ]
  },
  {
   "cell_type": "code",
   "execution_count": null,
   "id": "e7dc5b50",
   "metadata": {},
   "outputs": [],
   "source": [
    "## In which we bring the training data to 0..1\n",
    "#training_data = training_data_np/255.0\n",
    "cleaned_X = X_train_np/255.0\n",
    "cleaned_Y = to_categorical(Y_train_np)"
   ]
  },
  {
   "cell_type": "code",
   "execution_count": null,
   "id": "4d601a12",
   "metadata": {},
   "outputs": [],
   "source": [
    "TRAIN_P = 50\n",
    "VALI_P = 20\n",
    "TEST_P = 30\n",
    "def split_data(cleaned_X, cleaned_Y):\n",
    "    X_rem, X_test, Y_rem, Y_test = train_test_split(\n",
    "        cleaned_X, cleaned_Y, test_size=TEST_P/100,\n",
    "        random_state=RANDOM_SEED\n",
    "    )\n",
    "\n",
    "    X_train, X_val, Y_train, Y_val = train_test_split(\n",
    "        X_rem, Y_rem, test_size=VALI_P/(TRAIN_P + VALI_P),\n",
    "        random_state=RANDOM_SEED\n",
    "    )\n",
    "    return X_val, X_test, X_train, Y_val, Y_test, Y_train\n",
    "\n",
    "X_val, X_test, X_train, Y_val, Y_test, Y_train = split_data(cleaned_X, cleaned_Y)"
   ]
  },
  {
   "cell_type": "code",
   "execution_count": null,
   "id": "bd417e56",
   "metadata": {},
   "outputs": [],
   "source": [
    "DEPTH = RGB\n",
    "BATCH_SIZE = 1000  # 35 iterations for 35000 training instances\n",
    "FILTERS = [64, 128, 256]\n",
    "KERNEL_SIZE = [7, 3, 3]\n",
    "STRIDES = [(1, 1), (1, 1), (1, 1)]\n",
    "PADDING = 'same'  # 'valid' or 'same'. No 'mirror'\n",
    "DILATION_RATE = [1, 1, 1]\n",
    "KERNEL_INITIALIZER = 'glorot_uniform'  # Default\n",
    "INPUT_SHAPE = (256, 256, DEPTH)  # MNIST images\n",
    "POOL_SIZE = (2, 2)\n",
    "def build_model():\n",
    "    model = keras.Sequential(\n",
    "        [\n",
    "            keras.layers.Conv2D(FILTERS[0], KERNEL_SIZE[0],\n",
    "                                input_shape=INPUT_SHAPE,\n",
    "                                activation='relu', strides=STRIDES[0],\n",
    "                                padding=PADDING, dilation_rate=DILATION_RATE[0],\n",
    "                                kernel_initializer=KERNEL_INITIALIZER,\n",
    "                                name='c_layer_one'),\n",
    "            keras.layers.MaxPooling2D(pool_size=POOL_SIZE, padding=PADDING),\n",
    "            keras.layers.Conv2D(FILTERS[1], KERNEL_SIZE[1],\n",
    "                                activation='relu', strides=STRIDES[1],\n",
    "                                padding=PADDING, dilation_rate=DILATION_RATE[1],\n",
    "                                kernel_initializer=KERNEL_INITIALIZER,\n",
    "                                name='c_layer_two'),\n",
    "            keras.layers.Conv2D(FILTERS[1], KERNEL_SIZE[1],\n",
    "                                activation='relu', strides=STRIDES[1],\n",
    "                                padding=PADDING, dilation_rate=DILATION_RATE[1],\n",
    "                                kernel_initializer=KERNEL_INITIALIZER,\n",
    "                                name='c_layer_three'),\n",
    "            keras.layers.MaxPooling2D(pool_size=POOL_SIZE, padding=PADDING),\n",
    "            keras.layers.Conv2D(FILTERS[2], KERNEL_SIZE[2],\n",
    "                                activation='relu', strides=STRIDES[2],\n",
    "                                padding=PADDING, dilation_rate=DILATION_RATE[2],\n",
    "                                kernel_initializer=KERNEL_INITIALIZER,\n",
    "                                name='c_layer_four'),\n",
    "            keras.layers.Conv2D(FILTERS[2], KERNEL_SIZE[2],\n",
    "                                activation='relu', strides=STRIDES[2],\n",
    "                                padding=PADDING, dilation_rate=DILATION_RATE[2],\n",
    "                                kernel_initializer=KERNEL_INITIALIZER,\n",
    "                                name='c_layer_five'),\n",
    "            keras.layers.MaxPooling2D(pool_size=POOL_SIZE, padding=PADDING),\n",
    "            # End Convolution/Pooling, go to Dense\n",
    "            keras.layers.Flatten(),\n",
    "            keras.layers.Dense(128, activation='relu', name='h_layer_one'),\n",
    "            keras.layers.Dropout(0.2, seed=RANDOM_SEED),\n",
    "            keras.layers.Dense(64, activation='relu', name='h_layer_two'),\n",
    "            keras.layers.Dropout(0.2, seed=RANDOM_SEED),\n",
    "            keras.layers.Dense(10, activation='softmax', name='output_layer'),\n",
    "        ]\n",
    "    )\n",
    "    return model"
   ]
  },
  {
   "cell_type": "code",
   "execution_count": null,
   "id": "b4529118",
   "metadata": {},
   "outputs": [],
   "source": [
    "def compile_model(model):\n",
    "    model.compile(\n",
    "        optimizer='rmsprop',  # Default\n",
    "        loss='categorical_crossentropy',  # Cross entropy from class\n",
    "        metrics=['accuracy']\n",
    "    )\n",
    "    return model"
   ]
  },
  {
   "cell_type": "code",
   "execution_count": null,
   "id": "761a9f87",
   "metadata": {},
   "outputs": [],
   "source": [
    "PROGRESS_BAR = 1\n",
    "ONE_LINE_PER = 2\n",
    "def train_model(model, X_train, Y_train, X_val, Y_val):\n",
    "    history = model.fit(\n",
    "        x=X_train,\n",
    "        y=Y_train,\n",
    "        validation_data=(X_val, Y_val),\n",
    "        batch_size=128,\n",
    "        epochs=12,\n",
    "        verbose=ONE_LINE_PER\n",
    "    )\n",
    "    return model, history"
   ]
  },
  {
   "cell_type": "code",
   "execution_count": null,
   "id": "136f9a8d",
   "metadata": {},
   "outputs": [],
   "source": [
    "def eval_model(model, X_test, Y_test):\n",
    "    test_loss, test_accuracy = model.evaluate(x=X_test,\n",
    "                                              y=Y_test,\n",
    "                                              batch_size=128,\n",
    "                                              verbose=1)\n",
    "    return test_loss, test_accuracy"
   ]
  },
  {
   "cell_type": "code",
   "execution_count": null,
   "id": "968cf19c",
   "metadata": {},
   "outputs": [],
   "source": [
    "# Summarize the model to avoid > 2000000 parameters\n",
    "model = build_model()\n",
    "model.summary()"
   ]
  },
  {
   "cell_type": "code",
   "execution_count": null,
   "id": "4b414b09",
   "metadata": {},
   "outputs": [],
   "source": [
    "## You may use this space (and add additional cells for exploration)\n",
    "\n",
    "model = compile_model(model)\n",
    "model, history = train_model(model, X_train, Y_train, X_val, Y_val)\n",
    "test_loss, test_accuracy = eval_model(model, X_test, Y_test)\n",
    "\n",
    "\n",
    "print(f\"Test loss {test_loss:.4f}, Test accuracy: {test_accuracy:.4f}\")"
   ]
  },
  {
   "cell_type": "code",
   "execution_count": null,
   "id": "07617e79",
   "metadata": {},
   "outputs": [],
   "source": []
  }
 ],
 "metadata": {
  "kernelspec": {
   "display_name": "Python 3 (ipykernel)",
   "language": "python",
   "name": "python3"
  },
  "language_info": {
   "codemirror_mode": {
    "name": "ipython",
    "version": 3
   },
   "file_extension": ".py",
   "mimetype": "text/x-python",
   "name": "python",
   "nbconvert_exporter": "python",
   "pygments_lexer": "ipython3",
   "version": "3.10.3"
  }
 },
 "nbformat": 4,
 "nbformat_minor": 5
}
